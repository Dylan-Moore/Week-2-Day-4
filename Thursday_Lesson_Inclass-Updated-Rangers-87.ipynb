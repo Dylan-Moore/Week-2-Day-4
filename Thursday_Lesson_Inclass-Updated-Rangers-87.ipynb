{
 "cells": [
  {
   "cell_type": "markdown",
   "metadata": {},
   "source": [
    "# User-Defined Functions & Scoping"
   ]
  },
  {
   "cell_type": "markdown",
   "metadata": {},
   "source": [
    "## Tasks Today:\n",
    "\n",
    "\n",
    "1) Functions <br>\n",
    " &nbsp;&nbsp;&nbsp;&nbsp; a) User-Defined vs. Built-In Functions <br>\n",
    " &nbsp;&nbsp;&nbsp;&nbsp; b) Accepting Parameters <br>\n",
    " &nbsp;&nbsp;&nbsp;&nbsp; c) Default Parameters <br>\n",
    " &nbsp;&nbsp;&nbsp;&nbsp; d) Making an Argument Optional <br>\n",
    " &nbsp;&nbsp;&nbsp;&nbsp; e) Keyword Arguments <br>\n",
    " &nbsp;&nbsp;&nbsp;&nbsp; f) Returning Values <br>\n",
    " &nbsp;&nbsp;&nbsp;&nbsp; g) *args <br>\n",
    " &nbsp;&nbsp;&nbsp;&nbsp; h) Docstring <br>\n",
    " &nbsp;&nbsp;&nbsp;&nbsp; i) Using a User Function in a Loop <br>\n",
    "2) Scope\n",
    "3) Creating more User-Defined functions "
   ]
  },
  {
   "cell_type": "markdown",
   "metadata": {},
   "source": [
    "\n",
    "## Functions"
   ]
  },
  {
   "cell_type": "markdown",
   "metadata": {},
   "source": [
    "##### User-Defined vs. Built-In Functions"
   ]
  },
  {
   "cell_type": "code",
   "execution_count": null,
   "metadata": {},
   "outputs": [],
   "source": [
    "#Built-In Function\n",
    "print(\"This is from the built in function...' hello'\")\n",
    "\n",
    "#User-Defined Function\n",
    "def say_hello():\n",
    "    return \"This is from the user-defined function...'Hello World'\"\n",
    "say_hello()\n"
   ]
  },
  {
   "cell_type": "markdown",
   "metadata": {},
   "source": [
    "##### Accepting Parameters"
   ]
  },
  {
   "cell_type": "code",
   "execution_count": null,
   "metadata": {
    "scrolled": true
   },
   "outputs": [],
   "source": [
    "#order matters\n",
    "#a variable can be any type of object\n",
    "\n",
    "first = \"Dylan\"\n",
    "last = \"Moore\"\n",
    "def print_full_name(first_name,last_name):\n",
    "    return f\"Hello my last name is {last_name} and my first name is {first_name}\"\n",
    "print(print_full_name(first, last))"
   ]
  },
  {
   "cell_type": "markdown",
   "metadata": {},
   "source": [
    "##### Default Parameters"
   ]
  },
  {
   "cell_type": "code",
   "execution_count": null,
   "metadata": {},
   "outputs": [],
   "source": [
    "#Default parameters must come after the non-default parameters...at all times\n",
    "def agent_name(first_name, last_name = \"Bond\"):\n",
    "    return f\"The name is {last_name}...{first_name} {last_name}.\"\n",
    "print(agent_name(\"James\"))\n",
    "print(\"\\n\")\n",
    "print(agent_name(\"James\", \"and the Giant Peach\"))"
   ]
  },
  {
   "cell_type": "code",
   "execution_count": null,
   "metadata": {},
   "outputs": [],
   "source": [
    "def oct_birthday(day = 22,year = 1991,month = \"October\"):\n",
    "    return f\"Your birthday is the {day} day of {month} and you were born in {year}.\"\n",
    "print(oct_birthday(\"22nd\",\"2022\"))\n",
    "\n",
    "print(oct_birthday(\"29th\",\"2022\", \"January\"))\n",
    "print(oct_birthday())"
   ]
  },
  {
   "cell_type": "code",
   "execution_count": null,
   "metadata": {},
   "outputs": [],
   "source": [
    "def print_name(first, last):\n",
    "    return f\"Hello {first} {last}\"\n",
    "first = \"Luke\"\n",
    "last = \"Skywalker\"\n",
    "print(print_name(first,last))"
   ]
  },
  {
   "cell_type": "markdown",
   "metadata": {},
   "source": [
    "##### Making an Argument Optional"
   ]
  },
  {
   "cell_type": "code",
   "execution_count": null,
   "metadata": {},
   "outputs": [],
   "source": [
    "#optional parameter also need to go after regular parameters\n",
    "def print_horse_name(first,middle = \"\", last = \"Ed\"):\n",
    "    return f\" Hello {first} {middle} {last}.\"\n",
    "print(print_horse_name(\"Mr.\"))\n",
    "print(\"\\n\")\n",
    "print(print_horse_name(\"Epona\"))"
   ]
  },
  {
   "cell_type": "markdown",
   "metadata": {},
   "source": [
    "##### Keyword Arguments"
   ]
  },
  {
   "cell_type": "code",
   "execution_count": null,
   "metadata": {},
   "outputs": [],
   "source": [
    "def print_hero(name, power=\"flying\"):\n",
    "    return f\"{name}'s power is {power}.\"\n",
    "print(print_hero(power = \"Money\", name = \"Bruce\"))\n",
    "print(print_hero(\"Superman\"))"
   ]
  },
  {
   "cell_type": "code",
   "execution_count": null,
   "metadata": {},
   "outputs": [],
   "source": [
    "#Create a function (or more than one) that accepts positional, default, and optional arguments.\n",
    "def fav_movie(movie, year, star = \"Elijah Wood\", co_star = \"\"):\n",
    "    return f\"Your favorite movie is {movie} that came out in {year}, starring {star} {co_star}.\"\n",
    "print(fav_movie(\"Lord of the rings\",\"2003\" ))\n",
    "print(fav_movie(\"The Dark Knight\", \"2008\", \"Christian Bale\"))\n"
   ]
  },
  {
   "cell_type": "markdown",
   "metadata": {},
   "source": [
    "# Creating a start, stop, step function"
   ]
  },
  {
   "cell_type": "code",
   "execution_count": null,
   "metadata": {},
   "outputs": [],
   "source": [
    "#parameters are just place holders for arguments that we're passing in\n",
    "def my_range(stop,start = 0, step = 1):\n",
    "    for i in range(start,stop,step):\n",
    "        print(i)\n",
    "my_range(15,1,2)\n",
    "print(\"\\n\")\n",
    "my_range(20)"
   ]
  },
  {
   "cell_type": "markdown",
   "metadata": {},
   "source": [
    "##### Returning Values"
   ]
  },
  {
   "cell_type": "code",
   "execution_count": null,
   "metadata": {},
   "outputs": [],
   "source": [
    "def add_nums(num1, num2):\n",
    "    return num1 + num2\n",
    "print(add_nums(5,10))\n",
    "\n",
    "more_adding = add_nums(5,10) + 10\n",
    "print(more_adding)"
   ]
  },
  {
   "cell_type": "markdown",
   "metadata": {},
   "source": [
    "##### *args / **kwargs (keyword arguments)"
   ]
  },
  {
   "cell_type": "code",
   "execution_count": null,
   "metadata": {},
   "outputs": [],
   "source": [
    "# *args stands for argumnets (**kwargs are keyword arguments)\n",
    "#can take any number of arguments as parameters\n",
    "\n",
    "def print_args(num1, *args, **kwargs):\n",
    "    print(f\"This is my positional argument {num1}\")\n",
    "    print(f\"These are my *args {args}\")\n",
    "    print(f\"These are my **kwargs {kwargs}\")\n",
    "print(print_args(2, 10, \"megazord\", \"Dylan\", \"Cheetor\", \"Water Bottle\", names = [\"Alex\", \"Julia\"], subject = \"Python\"))"
   ]
  },
  {
   "cell_type": "code",
   "execution_count": 23,
   "metadata": {},
   "outputs": [
    {
     "name": "stdout",
     "output_type": "stream",
     "text": [
      "10\n",
      "megazord\n",
      "Ryan\n",
      "Cheetor\n",
      "Water Bottle\n",
      "nice late summer breeze\n",
      "\n",
      "\n",
      "names ['Alex', 'Julia']\n",
      "subject Python\n",
      "num2 15\n",
      "\n",
      "\n",
      "2\n"
     ]
    }
   ],
   "source": [
    "#write a function that accepts args and kwars and prints out each argument and keyword argument on it's own line\n",
    "def print_args2(num1, *args, **kwargs):\n",
    "    for a in args:\n",
    "        print(a)\n",
    "    print(\"\\n\")\n",
    "    for key, value in kwargs.items():\n",
    "        print(key, value)\n",
    "    print(\"\\n\")\n",
    "    print(num1)\n",
    "print_args2(2, 10, \"megazord\", \"Ryan\", \"Cheetor\", \"Water Bottle\", \"nice late summer breeze\", names = [\"Alex\", \"Julia\"], subject = \"Python\", num2 = 15 )\n"
   ]
  },
  {
   "cell_type": "code",
   "execution_count": null,
   "metadata": {},
   "outputs": [],
   "source": [
    "#Write a function that takes in positional argument, at least 3 *args, and at least 2 **kwargs. Loop through and print each one\n",
    "def print_arg3(age, *args, **kwargs):\n",
    "    for a in args:\n",
    "        print(a)\n",
    "    print(\"\\n\")\n",
    "    for key, value in kwargs.items():\n",
    "        print(key, value)\n",
    "    print(\"\\n\")\n",
    "    print(age)\n",
    "print_arg3(30,\"Dragon Quest\", \"Persona 5\", \"Elden Ring\", \"Pokemon\", name = \"Dylan\", \n",
    "           movie = \"Lord of the Rings\", food = \"Sushi\", hair = \"Red\")\n"
   ]
  },
  {
   "cell_type": "markdown",
   "metadata": {},
   "source": [
    "##### Docstring"
   ]
  },
  {
   "cell_type": "code",
   "execution_count": null,
   "metadata": {},
   "outputs": [],
   "source": [
    "# nice way to provide notes about the utility of the function\n",
    "def print_names(arr):\n",
    "    \"\"\"\n",
    "    print_names(arr)\n",
    "    function requires a list to be passed as a parameter\n",
    "    and will print the contents of the list. Expecting\n",
    "    a list of names(strings)to be passed\n",
    "    \"\"\"\n",
    "    \n",
    "    for name in arr:\n",
    "        print(name)\n",
    "        \n",
    "print_names([\"Lando\",\"Boba Fett\"])"
   ]
  },
  {
   "cell_type": "markdown",
   "metadata": {},
   "source": [
    "##### Using a User Function in a Loop"
   ]
  },
  {
   "cell_type": "code",
   "execution_count": null,
   "metadata": {},
   "outputs": [],
   "source": [
    "def print_input(answer):\n",
    "    print(f\"Your answer is {answer}.\")\n",
    "def party_time():\n",
    "    while True:\n",
    "        ask = input(\"What do you want to do? \")\n",
    "        print_input(ask)\n",
    "    \n",
    "        response = input(\"Ready to quit? \")\n",
    "        if response.lower() == \"yes\":\n",
    "            break\n",
    "party_time()\n",
    "   "
   ]
  },
  {
   "cell_type": "markdown",
   "metadata": {},
   "source": [
    "## Function Exercises <br>\n",
    "### Exercise 1\n",
    "<p>Write a function that loops through a list of first_names and a list of last_names, combines the two and return a list of full_names</p>"
   ]
  },
  {
   "cell_type": "code",
   "execution_count": null,
   "metadata": {},
   "outputs": [],
   "source": [
    "first_name = ['John', 'Evan', 'Jordan', 'Max']\n",
    "last_name = ['Smith', 'Smith', 'Williams', 'Bell']\n",
    "\n",
    "# Output: ['John Smith', 'Evan Smith', 'Jordan Williams', 'Max Bell']\n",
    "\n",
    "#getting full name w/ helper function\n",
    "#helper function is a function with utility that can assist another functions goal\n",
    "def get_full_name(first,last):\n",
    "    \"\"\"Combine first and last to make a full name\"\"\"\n",
    "    full_name = f\"{first} {last}\"\n",
    "    return full_name.title()\n",
    "print(get_full_name(\"Dylan\",\"Moore\"))\n",
    "\n",
    "def full_names(firsts,lasts):\n",
    "    fulls=[]\n",
    "    for i in range(len(firsts)):\n",
    "        whole_name = get_full_name(firsts[i], lasts[i])\n",
    "        print(whole_name)\n",
    "        fulls.append(whole_name)\n",
    "    return fulls\n",
    "\n",
    "full_names(first_name, last_name)"
   ]
  },
  {
   "cell_type": "code",
   "execution_count": null,
   "metadata": {},
   "outputs": [],
   "source": [
    "#looping by index and concatenating first and last name\n",
    "first_name = ['John', 'Evan', 'Jordan', 'Max']\n",
    "last_name = ['Smith', 'Smith', 'Williams', 'Bell']\n",
    "def full_name_getter(firsts, lasts):\n",
    "    full_names = []\n",
    "    for i in range(len(firsts)):\n",
    "        full_names.append(firsts[i] + \" \" + lasts[i])\n",
    "    return full_names\n",
    "full_name_getter(first_name,last_name)\n"
   ]
  },
  {
   "cell_type": "code",
   "execution_count": null,
   "metadata": {},
   "outputs": [],
   "source": [
    "#looping by index and concatenating first and last name with list comprehension\n",
    "first_name = ['John', 'Evan', 'Jordan', 'Max']\n",
    "last_name = ['Smith', 'Smith', 'Williams', 'Bell']\n",
    "def nice_names(firsts,lasts):\n",
    "    return [firsts[i] + \" \" + lasts[i] for i in range(len(firsts))]\n",
    "nice_names(first_name, last_name)"
   ]
  },
  {
   "cell_type": "markdown",
   "metadata": {},
   "source": [
    "### Exercise 2\n",
    "Create a function that alters all values in the given list by subtracting 5 and then doubling them."
   ]
  },
  {
   "cell_type": "code",
   "execution_count": null,
   "metadata": {},
   "outputs": [],
   "source": [
    "input_list = [5,10,15,20,3]\n",
    "# output = [0,10,20,30,-4]\n",
    "\n",
    "def num_alt(lst):\n",
    "    num_lst2 = []\n",
    "    for i in lst:\n",
    "        i = (i - 5) * 2\n",
    "        num_lst2.append(i)\n",
    "    return num_lst2\n",
    "num_alt(input_list)\n"
   ]
  },
  {
   "cell_type": "code",
   "execution_count": null,
   "metadata": {},
   "outputs": [],
   "source": [
    "#Nick's solution\n",
    "input_list = [5,10,15,20,3]\n",
    "\n",
    "def lst(nums):\n",
    "    return[((nums[i]-5)*2) for i in range(len(nums))]\n",
    "lst(input_list)"
   ]
  },
  {
   "cell_type": "code",
   "execution_count": null,
   "metadata": {},
   "outputs": [],
   "source": [
    "#Julia Code\n",
    "def minus_five(arr):\n",
    "    return[x-5 for x in arr]\n",
    "def minus_five_times_two(arr):\n",
    "    return[x*2 for x in minus_five(arr)]\n",
    "print(minus_five_times_two(input_list))"
   ]
  },
  {
   "cell_type": "markdown",
   "metadata": {},
   "source": [
    "### Exercise 3\n",
    "Create a function that takes in a list of strings and filters out the strings that DO NOT contain vowels. "
   ]
  },
  {
   "cell_type": "code",
   "execution_count": 15,
   "metadata": {},
   "outputs": [
    {
     "name": "stdout",
     "output_type": "stream",
     "text": [
      "['Sheldon', 'Pnny', 'Leonard', 'Hwrd', 'Rj', 'Amy', 'Strt']\n"
     ]
    }
   ],
   "source": [
    "string_list = ['Sheldon','Pnny','Leonard','Hwrd','Rj','Amy','Strt']\n",
    "# output = ['Sheldon','Leonard','Amy']\n",
    "\n",
    "def vowel_rmv(arr):\n",
    "    lst=[]\n",
    "    for i in arr:\n",
    "        if \"e\" or \"a\" or \"i\" or \"o\" or \"u\" in i:\n",
    "            lst.append(i)\n",
    "    return lst\n",
    "print(vowel_rmv(string_list))\n"
   ]
  },
  {
   "cell_type": "code",
   "execution_count": 19,
   "metadata": {},
   "outputs": [
    {
     "name": "stdout",
     "output_type": "stream",
     "text": [
      "['Sheldon', 'Leonard', 'Amy']\n"
     ]
    }
   ],
   "source": [
    "#Alex's solution\n",
    "string_list = ['Sheldon','Pnny','Leonard','Hwrd','Rj','Amy','Strt']\n",
    "def get_vowels(arr):\n",
    "    \n",
    "    final_list = []\n",
    "    for name in arr:\n",
    "        for char in 'aeiou':\n",
    "            if char in name.lower() and name not in final_list:\n",
    "                final_list.append(name)\n",
    "                \n",
    "    return final_list\n",
    "\n",
    "print(get_vowels(string_list))\n"
   ]
  },
  {
   "cell_type": "code",
   "execution_count": null,
   "metadata": {},
   "outputs": [],
   "source": [
    "Exercise 3.5\n",
    "Create a function that takes in a list of strings and filters out the strings that have less than 6 characters.\n"
   ]
  },
  {
   "cell_type": "code",
   "execution_count": 20,
   "metadata": {},
   "outputs": [
    {
     "ename": "SyntaxError",
     "evalue": "invalid syntax (1261186906.py, line 5)",
     "output_type": "error",
     "traceback": [
      "\u001b[1;36m  Input \u001b[1;32mIn [20]\u001b[1;36m\u001b[0m\n\u001b[1;33m    return new_big_bang = [name for name in names if len(name)>6]\u001b[0m\n\u001b[1;37m                        ^\u001b[0m\n\u001b[1;31mSyntaxError\u001b[0m\u001b[1;31m:\u001b[0m invalid syntax\n"
     ]
    }
   ],
   "source": [
    "string_list = ['Sheldon','Penny','Leonard','Howard','Raj','Amy','Stuart']\n",
    "# output = ['Sheldon', 'Leonard','Howard','Stuart']\n",
    "#Chris's solution\n",
    "def big_bang(names):\n",
    "    new_big_bang = [name for name in names if len(name)>6]\n",
    "    \n",
    "    return new_big_bang\n",
    "big_bang(string_list)"
   ]
  },
  {
   "cell_type": "code",
   "execution_count": null,
   "metadata": {},
   "outputs": [],
   "source": []
  },
  {
   "cell_type": "markdown",
   "metadata": {},
   "source": [
    "### Exercise 4\n",
    "Create a function that accepts a list as a parameter and returns a dictionary containing the list items as it's keys, and the number of times they appear in the list as the values"
   ]
  },
  {
   "cell_type": "code",
   "execution_count": 28,
   "metadata": {},
   "outputs": [
    {
     "name": "stdout",
     "output_type": "stream",
     "text": [
      "{}\n"
     ]
    }
   ],
   "source": [
    "example_list = [\"Harry\", 'Hermione','Harry','Ron','Dobby','Draco','Luna','Harry','Hermione','Ron','Ron','Ron']\n",
    "\n",
    "# output = {\n",
    "#     \"Harry\":3,\n",
    "#     \"Hermione\":2,\n",
    "#     \"Ron\":4,\n",
    "#     \"Dobby\":1,\n",
    "#     \"Draco\":1,\n",
    "#     \"Luna\": 1\n",
    "# }\n",
    "\n",
    "def Potter(arr,counter = 0,**new_potter):\n",
    "    for i in arr:\n",
    "        counter +=1\n",
    "    for key, values in new_potter:\n",
    "        key = i in arr\n",
    "        value = counter\n",
    "\n",
    "    print(new_potter)\n",
    "Potter(example_list)            \n",
    "        \n",
    "            \n",
    "        \n",
    "        "
   ]
  },
  {
   "cell_type": "code",
   "execution_count": 29,
   "metadata": {},
   "outputs": [
    {
     "data": {
      "text/plain": [
       "{'Harry': 3, 'Hermione': 2, 'Ron': 4, 'Dobby': 1, 'Draco': 1, 'Luna': 1}"
      ]
     },
     "execution_count": 29,
     "metadata": {},
     "output_type": "execute_result"
    }
   ],
   "source": [
    "#Julia's\n",
    "\n",
    "def quidditch_scores(arr):\n",
    "    points = {}\n",
    "    for name in arr:\n",
    "        if name not in points.keys():\n",
    "            points[name] = 1\n",
    "        else:\n",
    "            points[name] += 1\n",
    "            \n",
    "    return points\n",
    "\n",
    "quidditch_scores(example_list)\n"
   ]
  },
  {
   "cell_type": "code",
   "execution_count": 30,
   "metadata": {},
   "outputs": [
    {
     "data": {
      "text/plain": [
       "{'Harry': 3, 'Hermione': 2, 'Ron': 4, 'Dobby': 1, 'Draco': 1, 'Luna': 1}"
      ]
     },
     "execution_count": 30,
     "metadata": {},
     "output_type": "execute_result"
    }
   ],
   "source": [
    "#Chris's\n",
    "def list_count(names):\n",
    "    count_dict = {}\n",
    "    \n",
    "    for value in names:\n",
    "        if value in count_dict:\n",
    "            count_dict[value] += 1\n",
    "        else:\n",
    "            count_dict[value] = 1\n",
    "    \n",
    "    return count_dict\n",
    "\n",
    "list_count(example_list)\n"
   ]
  },
  {
   "cell_type": "code",
   "execution_count": null,
   "metadata": {},
   "outputs": [],
   "source": [
    "#Alex's solution\n",
    "\n",
    "def harry_potter(arr):\n",
    "    \n",
    "    return {name : arr.count(name) for name in set(arr)}\n",
    "\n",
    "print(harry_potter(example_list))\n"
   ]
  },
  {
   "cell_type": "markdown",
   "metadata": {},
   "source": [
    "\n",
    "\n",
    "## Scope <br>\n",
    "<p>Scope refers to the ability to access variables, different types of scope include:<br>a) Global<br>b) Function (local)<br>c) Class (local)</p>"
   ]
  },
  {
   "cell_type": "code",
   "execution_count": null,
   "metadata": {},
   "outputs": [],
   "source": [
    "# placement of variable declaration matters\n",
    "\n",
    "number = 3 # Global Variable\n",
    "\n",
    "def myFunc():\n",
    "    num_3 = 6 # Local Function Variable\n",
    "    return num_3\n",
    "\n",
    "print(number)\n",
    "return_num = myFunc()\n",
    "print(return_num)"
   ]
  },
  {
   "cell_type": "code",
   "execution_count": null,
   "metadata": {},
   "outputs": [],
   "source": []
  },
  {
   "cell_type": "markdown",
   "metadata": {},
   "source": [
    "# Homework Exercises"
   ]
  },
  {
   "cell_type": "markdown",
   "metadata": {},
   "source": [
    "## Exercise 1 <br>\n",
    "<p>Given a list as a parameter,write a function that returns a list of numbers that are less than ten</b></i></p><br>\n",
    "<p> For example: Say your input parameter to the function is [1,11,14,5,8,9]...Your output should [1,5,8,9]</p>"
   ]
  },
  {
   "cell_type": "code",
   "execution_count": null,
   "metadata": {},
   "outputs": [],
   "source": [
    "# Use the following list - [1,11,14,5,8,9]\n",
    "\n",
    "l_1 = [1,11,14,5,8,9]\n"
   ]
  },
  {
   "cell_type": "markdown",
   "metadata": {},
   "source": [
    "## Exercise 2 <br>\n",
    "<p>Write a function that takes in two lists and returns the two lists merged together and sorted<br>\n",
    "<b><i>Hint: You can use the .sort() method</i></b></p>"
   ]
  },
  {
   "cell_type": "code",
   "execution_count": null,
   "metadata": {},
   "outputs": [],
   "source": [
    "l_1 = [1,2,3,4,5,6]\n",
    "l_2 = [3,4,5,6,7,8,10]\n",
    "\n"
   ]
  }
 ],
 "metadata": {
  "kernelspec": {
   "display_name": "Python 3 (ipykernel)",
   "language": "python",
   "name": "python3"
  },
  "language_info": {
   "codemirror_mode": {
    "name": "ipython",
    "version": 3
   },
   "file_extension": ".py",
   "mimetype": "text/x-python",
   "name": "python",
   "nbconvert_exporter": "python",
   "pygments_lexer": "ipython3",
   "version": "3.9.12"
  }
 },
 "nbformat": 4,
 "nbformat_minor": 2
}
